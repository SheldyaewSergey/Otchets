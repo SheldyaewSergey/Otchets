{
  "nbformat": 4,
  "nbformat_minor": 0,
  "metadata": {
    "colab": {
      "name": "Untitled0.ipynb",
      "provenance": [],
      "authorship_tag": "ABX9TyPvUy6pkswnnrYQpGkDHy9x",
      "include_colab_link": true
    },
    "kernelspec": {
      "name": "python3",
      "display_name": "Python 3"
    },
    "language_info": {
      "name": "python"
    }
  },
  "cells": [
    {
      "cell_type": "markdown",
      "metadata": {
        "id": "view-in-github",
        "colab_type": "text"
      },
      "source": [
        "<a href=\"https://colab.research.google.com/github/SheldyaewSergey/Reports/blob/main/Untitled0.ipynb\" target=\"_parent\"><img src=\"https://colab.research.google.com/assets/colab-badge.svg\" alt=\"Open In Colab\"/></a>"
      ]
    },
    {
      "cell_type": "code",
      "execution_count": 2,
      "metadata": {
        "colab": {
          "base_uri": "https://localhost:8080/"
        },
        "id": "XjserUiXyRJt",
        "outputId": "fe0ac412-83bb-4f7a-a199-cc2f15d1fa3e"
      },
      "outputs": [
        {
          "output_type": "stream",
          "name": "stdout",
          "text": [
            "Введите первое число:5\n",
            "Введите второе число:4\n",
            "Введите третье число:2\n",
            "Треугольник не равнобедренный\n"
          ]
        }
      ],
      "source": [
        "#Даны целые числа a,b,c являющиеся сторонами некого треугольник.\n",
        "#Необходимо проверить является ли треугольник равнобедренным.\n",
        "\n",
        "def ff():\n",
        "    while True:\n",
        "        try:\n",
        "            z = int(input(\"Введите первое число:\"))\n",
        "            x = int(input(\"Введите второе число:\"))\n",
        "            c = int(input(\"Введите третье число:\"))\n",
        "            # Ввод переменных\n",
        "            break\n",
        "        except ValueError:\n",
        "            print(\"Введите целые числа!\")\n",
        "    return z, x, c\n",
        "\n",
        "\n",
        "# Функция для проверки\n",
        "\n",
        "z, x, c = ff()\n",
        "\n",
        "if z == x or c == z or x == c:  # Решение\n",
        "    print(\"Треугольник равноберенный\")\n",
        "else:\n",
        "    print(\"Треугольник не равнобедренный\")"
      ]
    },
    {
      "cell_type": "code",
      "source": [
        "while True:\n",
        "    try:\n",
        "        a = int(input(\"Введите целое число >>> \"))\n",
        "        break\n",
        "    except ValueError:\n",
        "        print(\"Введите целое число больше нуля!\")\n",
        "b = 0\n",
        "b = a\n",
        "count = 1\n",
        "while True:\n",
        "    try:\n",
        "        n = int(input(\"Введите целое число для степени >>> \"))\n",
        "        break\n",
        "    except ValueError:\n",
        "        print(\"Введите целое число больше нуля!\")\n",
        "while count < n:\n",
        "    count += 1\n",
        "    a = a * b\n",
        "print(a)"
      ],
      "metadata": {
        "colab": {
          "base_uri": "https://localhost:8080/"
        },
        "id": "1Elk-Tk7yR-y",
        "outputId": "acce4166-8af7-4239-daac-47dd0d3aa19a"
      },
      "execution_count": 3,
      "outputs": [
        {
          "output_type": "stream",
          "name": "stdout",
          "text": [
            "Введите целое число >>> 26\n",
            "Введите целое число для степени >>> 2\n",
            "676\n"
          ]
        }
      ]
    },
    {
      "cell_type": "code",
      "source": [
        "# 1. Найти сумму чисел ряда 1,2,3,...,60 с использованием функции нахождения суммы.\n",
        "# Использовать локальные переменные.\n",
        "\n",
        "\n",
        "def func():\n",
        "    list1 = range(61)\n",
        "    print(sum(list1))\n",
        "\n",
        "\n",
        "func()"
      ],
      "metadata": {
        "colab": {
          "base_uri": "https://localhost:8080/"
        },
        "id": "nDdl0HxWzDZq",
        "outputId": "b9060737-8c10-4737-ff22-23e9006f7990"
      },
      "execution_count": 4,
      "outputs": [
        {
          "output_type": "stream",
          "name": "stdout",
          "text": [
            "1830\n"
          ]
        }
      ]
    }
  ]
}